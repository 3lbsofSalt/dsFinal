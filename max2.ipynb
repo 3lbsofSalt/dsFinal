{
 "cells": [
  {
   "cell_type": "code",
   "execution_count": 3,
   "metadata": {},
   "outputs": [],
   "source": [
    "import pandas as pd\n",
    "import requests\n",
    "import json\n",
    "import os\n",
    "import datetime\n",
    "\n",
    "pd.set_option('display.max_rows', 999)\n",
    "pd.set_option('display.max_columns', 999)\n",
    "pd.set_option('display.width', 999)\n"
   ]
  },
  {
   "cell_type": "code",
   "execution_count": 4,
   "metadata": {},
   "outputs": [],
   "source": [
    "\n",
    "files = os.listdir('data/dutch_tweets/')\n",
    "df = pd.DataFrame()\n",
    "\n",
    "for file in files:\n",
    "    dfTemp = pd.read_json(f'data/dutch_tweets/{file}')\n",
    "    df = pd.concat([df, dfTemp])\n",
    "df.dropna(subset=['longitude', 'latitude'], inplace=True)\n",
    "df['longitude'] = df['longitude'].round(1)\n",
    "df['latitude'] = df['latitude'].round(1)\n",
    "df = df[df['subjective_pattern'] != 0]\n",
    "\n",
    "# Use apply with a lambda function for concatenation\n",
    "df['lat_long'] = df.apply(lambda row: str(row['latitude']) + ', ' + str(row['longitude']), axis=1)"
   ]
  },
  {
   "cell_type": "code",
   "execution_count": 5,
   "metadata": {},
   "outputs": [],
   "source": [
    "def unix_ms_to_datetime(date):\n",
    "    if(type(date) == 'timestamp'):\n",
    "        return date.tz_localize(None)\n",
    "    elif isinstance(date, str) and ':' in date: \n",
    "        return pd.to_datetime(date).tz_localize(None)\n",
    "    else:\n",
    "        return pd.to_datetime(date, unit='ms').tz_localize(None)\n",
    "\n",
    "df['created_at'] = df['created_at'].apply(unix_ms_to_datetime)"
   ]
  },
  {
   "cell_type": "code",
   "execution_count": 6,
   "metadata": {},
   "outputs": [],
   "source": [
    "\n",
    "amsterdam_lat_long = '52.4, 4.9'\n",
    "rotterdam_lat_long = '51.9, 4.5'\n",
    "hague_lat_long = '52.1, 4.3'\n",
    "\n",
    "amsterdam = df[df['lat_long'] == '52.4, 4.9']\n",
    "rotterdam = df[df['lat_long'] == '51.9, 4.5']\n",
    "hague = df[df['lat_long'] == '52.1, 4.3']"
   ]
  },
  {
   "cell_type": "code",
   "execution_count": 10,
   "metadata": {},
   "outputs": [],
   "source": [
    "amsterdam_weather = pd.read_csv('./data/weather/amsterdam.csv')\n",
    "hague_weather = pd.read_csv('./data/weather/hague.csv')\n",
    "rotterdam_weather = pd.read_csv('./data/weather/rotterdam.csv')"
   ]
  }
 ],
 "metadata": {
  "kernelspec": {
   "display_name": "Python 3",
   "language": "python",
   "name": "python3"
  },
  "language_info": {
   "codemirror_mode": {
    "name": "ipython",
    "version": 3
   },
   "file_extension": ".py",
   "mimetype": "text/x-python",
   "name": "python",
   "nbconvert_exporter": "python",
   "pygments_lexer": "ipython3",
   "version": "3.11.8"
  }
 },
 "nbformat": 4,
 "nbformat_minor": 2
}
